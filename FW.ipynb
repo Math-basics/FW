{
 "cells": [
  {
   "cell_type": "code",
   "execution_count": 1,
   "metadata": {},
   "outputs": [],
   "source": [
    "# Загружаем библиотеки:\n",
    "# для работы с математикой\n",
    "import numpy as np\n",
    "# для построения графиков\n",
    "import matplotlib.pyplot as plt \n",
    "# для понижения размерности данных\n",
    "from sklearn.decomposition import PCA\n",
    "# для расчёта производных\n",
    "from scipy.misc import derivative\n",
    "# для оптимизации\n",
    "from scipy.optimize import differential_evolution"
   ]
  },
  {
   "cell_type": "markdown",
   "metadata": {},
   "source": [
    "### Задание 1"
   ]
  },
  {
   "cell_type": "code",
   "execution_count": 2,
   "metadata": {},
   "outputs": [],
   "source": [
    "# Исходные данные\n",
    "raitings = np.array([[ 4,  4,  9,  4,  1,  6, 10,  7,  9,  6,  9,  2,  8,  6,  6],\n",
    "                     [ 9,  2,  5, 10,  7,  8, 10,  5,  6,  2,  1,  6,  8,  9,  7],\n",
    "                     [ 1,  6,  8,  8,  4,  9,  3,  8, 10,  5,  2,  6,  8,  1,  6],\n",
    "                     [ 6,  1,  9,  7,  7,  9,  2,  3,  5,  1,  6,  6,  3,  2,  7],\n",
    "                     [ 3,  7,  3,  5,  7,  9,  9,  6,  2,  9,  1,  2,  8, 10,  6],\n",
    "                     [ 8,  3,  7,  3,  8,  6,  1,  8,  8,  6,  1,  9,  4, 10,  1],\n",
    "                     [ 9,  8,  4,  8,  8, 10,  6,  1,  1,  2,  9,  5,  2,  7,  2],\n",
    "                     [ 4,  1,  6,  4,  3, 10,  4,  4,  2,  8,  7,  9,  3,  8,  3],\n",
    "                     [ 2,  7,  7,  6, 10,  6,  8,  9,  8,  6, 10,  1,  7, 10,  4],\n",
    "                     [ 5, 10,  8,  8,  9,  7,  2,  9,  9, 10,  8,  8,  8,  6, 10]])"
   ]
  },
  {
   "cell_type": "markdown",
   "metadata": {},
   "source": [
    "#### 1a"
   ]
  },
  {
   "cell_type": "code",
   "execution_count": 3,
   "metadata": {},
   "outputs": [
    {
     "name": "stdout",
     "output_type": "stream",
     "text": [
      "(x, y), где y - наиболее похожий пользователь на пользователя x\n",
      "(1, 9)\n",
      "(2, 5)\n",
      "(3, 10)\n",
      "(4, 10)\n",
      "(5, 9)\n",
      "(6, 10)\n",
      "(7, 4)\n",
      "(8, 6)\n",
      "(9, 1)\n",
      "(10, 3)\n"
     ]
    }
   ],
   "source": [
    "print('(x, y), где y - наиболее похожий пользователь на пользователя x')\n",
    "\n",
    "# Переменная для записи величины косинуса между текущим вектором пользователя и каждым из всего списка пользователей\n",
    "cos_sim = [0] * len(raitings)\n",
    "# Перебираем строки матрицы - это соответствует векторам каждого пользователя\n",
    "for current_user_number in range(len(raitings)):\n",
    "    # Вектор выбранного пользователя\n",
    "    current_user_vector = raitings[current_user_number, :]\n",
    "    \n",
    "    # Выбираем других пользователей для сравнения\n",
    "    for opposite_user_number in range(len(raitings)):\n",
    "        # Вектор другого пользователя\n",
    "        opposite_user_vector = raitings[opposite_user_number, :]\n",
    "        # Показатель косинусного сходства между векторами двух пользователей\n",
    "        cos_sim[opposite_user_number] = np.dot(current_user_vector, opposite_user_vector)/(np.linalg.norm(current_user_vector) * np.linalg.norm(opposite_user_vector))\n",
    "    \n",
    "    # Сортируем по убыванию список значний косинуса между векторами\n",
    "    # Берём второе по величине значение, так как косинус для вектора с сами же собой равен 1\n",
    "    position = cos_sim.index(sorted(cos_sim, reverse=True)[1])\n",
    "    print(f'({current_user_number + 1}, {position + 1})')  "
   ]
  },
  {
   "cell_type": "markdown",
   "metadata": {},
   "source": [
    "#### 1b"
   ]
  },
  {
   "cell_type": "code",
   "execution_count": 4,
   "metadata": {},
   "outputs": [
    {
     "name": "stdout",
     "output_type": "stream",
     "text": [
      "Результат сжатия до 5 признаков:\n",
      " [[-5.30986101  1.92919845 -4.93300027  2.70188013  5.50497886]\n",
      " [ 2.87763403  2.71659559  1.40592782  7.26325751 -4.50322291]\n",
      " [-4.94010408 -6.68861167 -0.94550184  3.61556661 -0.68969272]\n",
      " [ 5.14939908 -6.28027284 -4.65978558  1.09024004 -1.01471112]\n",
      " [-1.37488691  7.54357985  4.00834369  2.1284001  -0.16324949]\n",
      " [ 2.65341956 -3.77075601  8.58430748 -1.46628319  1.67401769]\n",
      " [ 8.61573944  3.78603335 -4.02721027 -4.37582577 -3.13880277]\n",
      " [ 5.39658258 -1.0170466   1.01456742 -1.89512837  6.54883538]\n",
      " [-5.7843488   5.29857107 -1.48083611 -3.71295542  0.21312695]\n",
      " [-7.2835739  -3.51729118  1.03318766 -5.34915166 -4.43127987]]\n"
     ]
    }
   ],
   "source": [
    "# Для сжатия исходных данных используем PCA\n",
    "pca = PCA(n_components = 5)\n",
    "# Применяем к нашим данным\n",
    "raitings_pca = pca.fit_transform(raitings)\n",
    "print('Результат сжатия до 5 признаков:\\n', raitings_pca)"
   ]
  },
  {
   "cell_type": "markdown",
   "metadata": {},
   "source": [
    "### Задание 2"
   ]
  },
  {
   "cell_type": "markdown",
   "metadata": {},
   "source": [
    "Задание: посчить значение первой и второй производной функции\n",
    "$$    \n",
    "f(x) = tg^2(sin(x) + cos(2x+3))\n",
    "$$\n",
    "Производная\n",
    "$$\n",
    "f'(x) = 2tg(sin(x) + cos(2x+3))\\cdot(tg(sin(x) + cos(2x+3)))' =\n",
    "$$\n",
    "\n",
    "$$\n",
    "= \\frac{2tg(sin(x) + cos(2x+3))\\cdot((sin(x))' + (cos(2x+3))')}{cos^2(sin(x) + cos(2x+3))} =\n",
    "$$\n",
    "\n",
    "$$\n",
    "= \\frac{2tg(sin(x) + cos(2x+3))\\cdot(cos(x) - 2sin(2x+3))}{cos^2(sin(x) + cos(2x+3))}\n",
    "$$"
   ]
  },
  {
   "cell_type": "code",
   "execution_count": 5,
   "metadata": {},
   "outputs": [
    {
     "name": "stdout",
     "output_type": "stream",
     "text": [
      "Расчётное значение производной в точке х = 1 составляет 55.386, а наденное с помощью библиотеки scipy составляет 55.386\n"
     ]
    }
   ],
   "source": [
    "# Точка для расчёта значения фцнкций\n",
    "x = 1\n",
    "# Исходная функция\n",
    "def f(x):\n",
    "    return np.tan(np.sin(x) + np.cos(2 * x + 3)) ** 2\n",
    "# Производная\n",
    "result = (2 * np.tan(np.sin(x) + np.cos(2 * x + 3)) * (np.cos(x) - 2 * np.sin(2 * x + 3))) / (np.cos(np.sin(x) + np.cos(2 * x + 3)) ** 2)\n",
    "print(f'Расчётное значение производной в точке х = {x} составляет {round(result, 3)}, а наденное с помощью библиотеки scipy составляет {round(derivative(f, x, n = 1, dx = 1e-6), 3)}')"
   ]
  },
  {
   "cell_type": "markdown",
   "metadata": {},
   "source": [
    "### Задание 3"
   ]
  },
  {
   "cell_type": "code",
   "execution_count": 6,
   "metadata": {
    "scrolled": false
   },
   "outputs": [
    {
     "data": {
      "image/png": "[encoded data removed]",
      "text/plain": [
       "<Figure size 432x288 with 1 Axes>"
      ]
     },
     "metadata": {
      "needs_background": "light"
     },
     "output_type": "display_data"
    }
   ],
   "source": [
    "# Исходные данные\n",
    "def f(x, a, b):\n",
    "    return np.e**a * np.sin(b*x) + x\n",
    "x = np.array([0.        , 0.26315789, 0.52631579, 0.78947368, 1.05263158,\n",
    "              1.31578947, 1.57894737, 1.84210526, 2.10526316, 2.36842105,\n",
    "              2.63157895, 2.89473684, 3.15789474, 3.42105263, 3.68421053,\n",
    "              3.94736842, 4.21052632, 4.47368421, 4.73684211, 5.        ])\n",
    "fx = np.array([  0.        , -12.01819092, -18.90968634, -17.68786571,\n",
    "                -8.7529108 ,   4.27524517,  16.06801336,  21.81250213,\n",
    "                19.22059845,   9.48411207,  -3.22273056, -13.48576488,\n",
    "               -16.91096359, -11.95866834,  -0.58630088,  12.56873816,\n",
    "                22.12489421,  24.20292139,  18.04522521,   6.33211092])\n",
    "plt.plot(x, fx)\n",
    "plt.show()\n",
    "def error(params):\n",
    "    return np.sum(np.abs(fx - f(x, params[0], params[1])))"
   ]
  },
  {
   "cell_type": "code",
   "execution_count": 7,
   "metadata": {},
   "outputs": [
    {
     "data": {
      "image/png": "[encoded data removed]",
      "text/plain": [
       "<Figure size 432x288 with 1 Axes>"
      ]
     },
     "metadata": {
      "needs_background": "light"
     },
     "output_type": "display_data"
    },
    {
     "name": "stdout",
     "output_type": "stream",
     "text": [
      "Значения параметров:\n",
      "a = 3.0\n",
      "b = -2.5\n"
     ]
    }
   ],
   "source": [
    "# Для нахождения параметров используем дифференциальную эволюцию\n",
    "res = differential_evolution(error, [(-5, 5), (-5, 5)])\n",
    "a = res['x'][0]\n",
    "b = res['x'][1]\n",
    "# Проверяем результат\n",
    "plt.plot(x, fx - f(x, a, b))\n",
    "plt.title('График ошибки\\n(разность между известными и полученными данными)\\n')\n",
    "plt.show()\n",
    "print(f'Значения параметров:\\na = {round(a, 2)}\\nb = {round(b, 2)}')"
   ]
  },
  {
   "cell_type": "markdown",
   "metadata": {},
   "source": [
    "### Задание 4"
   ]
  },
  {
   "cell_type": "code",
   "execution_count": 11,
   "metadata": {},
   "outputs": [
    {
     "data": {
      "image/png": "[encoded data removed]",
      "text/plain": [
       "<Figure size 1080x432 with 1 Axes>"
      ]
     },
     "metadata": {
      "needs_background": "light"
     },
     "output_type": "display_data"
    }
   ],
   "source": [
    "# Создайте собственную дискретную случайную величину с 20 значениями. Сгенерируйте 1000 выборок размера 50. \n",
    "# Создадим массив, каждая строка - это отдельная выборка\n",
    "data = np.random.randint(0, 20, size = (1000, 50))\n",
    "# Для каждой выборки-строки считаем среднее\n",
    "row_mean = np.mean(data, axis = 1)\n",
    "# Строим гистограмму\n",
    "plt.figure(figsize=(15, 6))\n",
    "plt.hist(row_mean, bins = range(5, 15), edgecolor = 'black')\n",
    "plt.xlim(5, 15) # Наши значения лежат в пределах от 2 до 8, нет смысла отображать пустые интервалы\n",
    "plt.xticks(range(5, 16))\n",
    "plt.title('Гистограмма распределения средних значений', fontsize = 'x-large', fontweight = 'bold')  \n",
    "plt.ylabel('Количество вхождений в диапазон', fontsize = 'x-large')\n",
    "plt.xlabel('Диапазоны значений среднего', fontsize = 'x-large')\n",
    "plt.show()"
   ]
  },
  {
   "cell_type": "markdown",
   "metadata": {},
   "source": [
    "### Задание 5"
   ]
  },
  {
   "cell_type": "markdown",
   "metadata": {},
   "source": [
    "Найдти собственные значения и собственные векторы матрицы\n",
    "$$\n",
    "A = \\begin{pmatrix}\n",
    "1&4\\\\\n",
    "1&1\n",
    "\\end{pmatrix}\n",
    "$$  \n",
    "Находим собственные значения из характеристического уравнения\n",
    "$$\n",
    "|A - \\lambda I| = \n",
    "\\begin{vmatrix}\n",
    "1 - \\lambda&4\\\\\n",
    "1&1 -\\lambda\n",
    "\\end{vmatrix} = 0\n",
    "$$  \n",
    "$$\n",
    "\\lambda^2 - 2\\lambda - 3 = 0\n",
    "$$\n",
    "$$\n",
    "\\lambda_1 = -1, \\lambda_2 = 3\n",
    "$$\n",
    "Собственные векторы для собственных значений:  \n",
    "- для $\\lambda_1 = -1 $\n",
    "$$\n",
    "2x + 4y = 0 \\rightarrow x = -2y\n",
    "$$\n",
    "$$\n",
    "v_1 = \\begin{pmatrix}\n",
    "1\\\\\n",
    "-0.5\n",
    "\\end{pmatrix} \n",
    "$$\n",
    "- для $\\lambda_2 = 3 $\n",
    "$$ -2x + 4y = 0 \\rightarrow x = 2y $$ \n",
    "$$\n",
    "v_2 = \\begin{pmatrix}\n",
    "1\\\\\n",
    "0.5\n",
    "\\end{pmatrix} \n",
    "$$\n"
   ]
  },
  {
   "cell_type": "code",
   "execution_count": 9,
   "metadata": {},
   "outputs": [
    {
     "name": "stdout",
     "output_type": "stream",
     "text": [
      "Собственное значение λ1 = 3.0, собственный вектор [0.894 0.447]\n",
      "Собственное значение λ2 = -1.0, собственный вектор [-0.894  0.447]\n"
     ]
    }
   ],
   "source": [
    "m = np.array([[1, 4],\n",
    "              [1, 1]])\n",
    "w, v = np.linalg.eig(m)\n",
    "print(f'Собственное значение λ1 = {round(w[0], 3)}, собственный вектор {np.round(v[:,0], 3)}')\n",
    "print(f'Собственное значение λ2 = {round(w[1], 3)}, собственный вектор {np.round(v[:,1], 3)}')"
   ]
  }
 ],
 "metadata": {
  "kernelspec": {
   "display_name": "Python 3",
   "language": "python",
   "name": "python3"
  },
  "language_info": {
   "codemirror_mode": {
    "name": "ipython",
    "version": 3
   },
   "file_extension": ".py",
   "mimetype": "text/x-python",
   "name": "python",
   "nbconvert_exporter": "python",
   "pygments_lexer": "ipython3",
   "version": "3.8.5"
  }
 },
 "nbformat": 4,
 "nbformat_minor": 4
}
